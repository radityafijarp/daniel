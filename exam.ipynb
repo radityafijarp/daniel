{
 "cells": [
  {
   "cell_type": "code",
   "execution_count": 1,
   "metadata": {},
   "outputs": [
    {
     "name": "stdout",
     "output_type": "stream",
     "text": [
      "1. Insert\n",
      "2. View\n",
      "3. Exit\n",
      "1. Insert\n",
      "2. View\n",
      "3. Exit\n",
      "Invalid input. Item Name shouuld contain only letters.\n"
     ]
    }
   ],
   "source": [
    "import pandas as pd\n",
    "\n",
    "def check_letters(text):\n",
    "    letters=\"abcdefghijklmnopqrstuvwxyz\"\n",
    "    count_not_same =0\n",
    "    for i in text.lower():\n",
    "        if not i in letters:\n",
    "            return False\n",
    "    return True\n",
    "\n",
    "def validate_supplier(supplier):\n",
    "    splitted_supplier = supplier.split()\n",
    "    last_word_index=len(splitted_supplier)-1\n",
    "    if splitted_supplier[last_word_index]==\"Supplier\":\n",
    "        return True\n",
    "    else:\n",
    "        return False\n",
    "\n",
    "list_of_item=[]\n",
    "\n",
    "program_status=True\n",
    "while program_status:\n",
    "    print(\"1. Insert\\n2. View\\n3. Exit\")\n",
    "    selected_menu = input(\"Choose the menu:\")\n",
    "    if selected_menu == \"1\":\n",
    "        validation=False\n",
    "        while validation==False:\n",
    "            item_name = input(\"Input Item Name (Letters Only):\")\n",
    "            validation=check_letters(item_name)\n",
    "            if validation==False:\n",
    "                print(\"Invalid input. Item Name shouuld contain only letters.\")\n",
    "        \n",
    "        empty_validation =False\n",
    "        while empty_validation==False:\n",
    "            input_category = input(\"Input Category [Cannot be Empty]:\")\n",
    "            if len(input_category) == 0:\n",
    "                print(\"Invalid input. Category should no be empty.\")\n",
    "            else:\n",
    "                empty_validation=True\n",
    "        \n",
    "        qty_validation=False\n",
    "        while qty_validation==False:\n",
    "            input_qty = int(input(\"Input Quantity [Must be > 0]:\"))\n",
    "            if input_qty <= 0:\n",
    "                print(\"Invalid input. Quantity must be more then 0.\")\n",
    "            else:\n",
    "                qty_validation=True\n",
    "\n",
    "        price_validation=False\n",
    "        while price_validation==False:\n",
    "            input_price = int(input(\"Input Price [10000 - 20000 IDR]:\"))\n",
    "            if input_price >= 10000 and input_price<=20000:\n",
    "                price_validation=True\n",
    "            else:\n",
    "                print(\"Invalid input. Price must be between 10000 and 20000 IDR.\")\n",
    "        \n",
    "        supplier_validation=False\n",
    "        while supplier_validation==False:\n",
    "            input_supplier = input(\"Input Supplier. [Ends with 'Supplier']:\")\n",
    "            supplier_validation=validate_supplier(input_supplier)\n",
    "            if supplier_validation==False:\n",
    "                print(\"Invalid input. Supplier should end with ' Supplier'.\")\n",
    "\n",
    "        total_price = input_qty*input_price\n",
    "        print(\"Item Details\")\n",
    "        print(\"====================================\")\n",
    "        print(\"Item name: \",item_name)\n",
    "        print(\"Category: \",input_category)\n",
    "        print(\"Price: \",input_price)\n",
    "        print(\"Supplier: \",input_supplier)\n",
    "        print(\"Total Price: \",total_price)\n",
    "        print(\"====================================\")\n",
    "\n",
    "        item_detail ={\n",
    "            \"Item name: \":item_name,\n",
    "            \"Category: \":input_category,\n",
    "            \"Price: \":input_price,\n",
    "            \"Supplier: \":input_supplier,\n",
    "            \"Total Price: \":total_price\n",
    "        }\n",
    "\n",
    "        list_of_item.append(item_detail)\n",
    "\n",
    "    elif selected_menu ==\"2\":\n",
    "        if len(list_of_item)==0:\n",
    "            print(\"No entries available.\")\n",
    "            input(\"Press enter to continue...\")\n",
    "            continue\n",
    "        data = pd.DataFrame(list_of_item)\n",
    "        print(\"====================================\")\n",
    "        print(data)\n",
    "        print(\"====================================\")\n",
    "\n",
    "    elif selected_menu ==\"3\":\n",
    "        print(\"Exiting application...\")\n",
    "        program_status=False"
   ]
  },
  {
   "cell_type": "code",
   "execution_count": 1,
   "metadata": {},
   "outputs": [
    {
     "name": "stdout",
     "output_type": "stream",
     "text": [
      "1. Insert\n",
      "2. View\n",
      "3. Exit\n"
     ]
    }
   ],
   "source": [
    "print(\"1. Insert\\n2. View\\n3. Exit\")"
   ]
  },
  {
   "cell_type": "code",
   "execution_count": 3,
   "metadata": {},
   "outputs": [
    {
     "name": "stdout",
     "output_type": "stream",
     "text": [
      "False\n"
     ]
    }
   ],
   "source": [
    "text =\"abcde\"\n",
    "print(\"i\" in text)"
   ]
  },
  {
   "cell_type": "code",
   "execution_count": 7,
   "metadata": {},
   "outputs": [],
   "source": [
    "def check_letters(text):\n",
    "    letters=\"abcdefghijklmnopqrstuvwxyz\"\n",
    "    count_not_same =0\n",
    "    for i in text.lower():\n",
    "        if not i in letters:\n",
    "            return False\n",
    "    return True"
   ]
  },
  {
   "cell_type": "code",
   "execution_count": 11,
   "metadata": {},
   "outputs": [
    {
     "name": "stdout",
     "output_type": "stream",
     "text": [
      "['abc', 'def', 'ghi', 'jkl']\n"
     ]
    }
   ],
   "source": [
    "text = \"abc def ghi jkl\"\n",
    "splitted_text =text.split()\n",
    "print(splitted_text)"
   ]
  },
  {
   "cell_type": "code",
   "execution_count": 10,
   "metadata": {},
   "outputs": [
    {
     "name": "stdout",
     "output_type": "stream",
     "text": [
      "False\n"
     ]
    }
   ],
   "source": [
    "print(check_letters(\"jdfha)kdfjhadsf\"))"
   ]
  },
  {
   "cell_type": "code",
   "execution_count": 12,
   "metadata": {},
   "outputs": [],
   "source": [
    "def validate_supplier(supplier):\n",
    "    splitted_supplier = supplier.split()\n",
    "    last_word_index=len(splitted_supplier)-1\n",
    "    if splitted_supplier[last_word_index]==\"Supplier\":\n",
    "        return True\n",
    "    else:\n",
    "        return False"
   ]
  },
  {
   "cell_type": "code",
   "execution_count": 14,
   "metadata": {},
   "outputs": [
    {
     "name": "stdout",
     "output_type": "stream",
     "text": [
      "True\n"
     ]
    }
   ],
   "source": [
    "print(validate_supplier(\"Blabla blabla Supplier\"))"
   ]
  },
  {
   "cell_type": "code",
   "execution_count": 3,
   "metadata": {},
   "outputs": [
    {
     "name": "stdout",
     "output_type": "stream",
     "text": [
      "   Item name Category  Price              Supplier  Total Price\n",
      "0  Telephone  Digital  15000  Free Border Supplier       300000\n",
      "1        Car  Vehicle  20000          Veh Supplier       900000\n",
      "2   Earphone    Tools  10000        Tools Supplier       900000\n"
     ]
    }
   ],
   "source": [
    "import pandas as pd\n",
    "\n",
    "# Data\n",
    "data = [\n",
    "    {'Item name': 'Telephone', 'Category': 'Digital', 'Price': 15000, 'Supplier': 'Free Border Supplier', 'Total Price': 300000},\n",
    "    {'Item name': 'Car', 'Category': 'Vehicle', 'Price': 20000, 'Supplier': 'Veh Supplier', 'Total Price': 900000},\n",
    "    {'Item name': 'Earphone', 'Category': 'Tools', 'Price': 10000, 'Supplier': 'Tools Supplier', 'Total Price': 900000}\n",
    "]\n",
    "\n",
    "# Convert list of dictionaries to DataFrame\n",
    "df = pd.DataFrame(data)\n",
    "print(df)\n"
   ]
  }
 ],
 "metadata": {
  "kernelspec": {
   "display_name": "spyder-cf",
   "language": "python",
   "name": "python3"
  },
  "language_info": {
   "codemirror_mode": {
    "name": "ipython",
    "version": 3
   },
   "file_extension": ".py",
   "mimetype": "text/x-python",
   "name": "python",
   "nbconvert_exporter": "python",
   "pygments_lexer": "ipython3",
   "version": "3.10.9"
  }
 },
 "nbformat": 4,
 "nbformat_minor": 2
}
